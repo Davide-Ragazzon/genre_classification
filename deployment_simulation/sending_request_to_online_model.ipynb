{
 "cells": [
  {
   "cell_type": "code",
   "execution_count": 1,
   "id": "ccdc5823",
   "metadata": {},
   "outputs": [],
   "source": [
    "import requests\n",
    "import json"
   ]
  },
  {
   "cell_type": "code",
   "execution_count": 15,
   "id": "b180530c",
   "metadata": {},
   "outputs": [
    {
     "name": "stdout",
     "output_type": "stream",
     "text": [
      "['Rap', 'RnB']\n"
     ]
    }
   ],
   "source": [
    "data_sample_json = './input_example_no_nan.json'\n",
    "\n",
    "with open(data_sample_json) as fp:\n",
    "    data = json.load(fp)\n",
    "\n",
    "results = requests.post(\"http://localhost:5000/invocations\", json=data)\n",
    "\n",
    "print(results.json())"
   ]
  },
  {
   "cell_type": "code",
   "execution_count": null,
   "id": "efb07dd5",
   "metadata": {},
   "outputs": [],
   "source": []
  }
 ],
 "metadata": {
  "kernelspec": {
   "display_name": "Python 3 (ipykernel)",
   "language": "python",
   "name": "python3"
  },
  "language_info": {
   "codemirror_mode": {
    "name": "ipython",
    "version": 3
   },
   "file_extension": ".py",
   "mimetype": "text/x-python",
   "name": "python",
   "nbconvert_exporter": "python",
   "pygments_lexer": "ipython3",
   "version": "3.8.12"
  }
 },
 "nbformat": 4,
 "nbformat_minor": 5
}
